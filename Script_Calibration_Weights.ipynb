{
 "cells": [
  {
   "cell_type": "markdown",
   "metadata": {},
   "source": [
    "# PARSING PDF FILE TO EXTRACT INFORMATION ABOUT VARIABLES AND INSERT INTO METADATA TABLE"
   ]
  },
  {
   "cell_type": "code",
   "execution_count": 69,
   "metadata": {},
   "outputs": [],
   "source": [
    "import pandas as pd"
   ]
  },
  {
   "cell_type": "code",
   "execution_count": 70,
   "metadata": {},
   "outputs": [],
   "source": [
    "import os"
   ]
  },
  {
   "cell_type": "code",
   "execution_count": 71,
   "metadata": {},
   "outputs": [],
   "source": [
    "import openpyxl"
   ]
  },
  {
   "cell_type": "code",
   "execution_count": 72,
   "metadata": {},
   "outputs": [],
   "source": [
    "import numpy as np\n",
    "import cvxpy as cp"
   ]
  },
  {
   "cell_type": "code",
   "execution_count": 73,
   "metadata": {},
   "outputs": [],
   "source": [
    "file_path = \"../../GIT/demo-Turin-EuSilc/02_DataSet/\" # Set the directory of the EU-SULC files"
   ]
  },
  {
   "cell_type": "code",
   "execution_count": 74,
   "metadata": {},
   "outputs": [],
   "source": [
    "df = pd.read_excel(os.path.join(file_path,\"Calibration_variables.xlsx\"))"
   ]
  },
  {
   "cell_type": "code",
   "execution_count": 75,
   "metadata": {},
   "outputs": [
    {
     "data": {
      "text/plain": [
       "<bound method NDFrame.head of               id  classe_eta  genere\n",
       "0     1571500001           3       2\n",
       "1     1571500002           5       2\n",
       "2     1571560001           4       1\n",
       "3     1571560002           4       2\n",
       "4     1571680001           4       2\n",
       "...          ...         ...     ...\n",
       "4271  2425930002           5       1\n",
       "4272  2425960001           3       2\n",
       "4273  2425960002           1       2\n",
       "4274  2425960003           1       1\n",
       "4275  2425960004           4       1\n",
       "\n",
       "[4276 rows x 3 columns]>"
      ]
     },
     "execution_count": 75,
     "metadata": {},
     "output_type": "execute_result"
    }
   ],
   "source": [
    "df.head"
   ]
  },
  {
   "cell_type": "code",
   "execution_count": 76,
   "metadata": {},
   "outputs": [
    {
     "name": "stdout",
     "output_type": "stream",
     "text": [
      "4276\n"
     ]
    }
   ],
   "source": [
    "np.random.seed(42)\n",
    "n = len(df)\n",
    "print(n)"
   ]
  },
  {
   "cell_type": "code",
   "execution_count": 77,
   "metadata": {},
   "outputs": [],
   "source": [
    "df['design_weight'] = 1.0"
   ]
  },
  {
   "cell_type": "code",
   "execution_count": 78,
   "metadata": {},
   "outputs": [],
   "source": [
    "df['classe_eta'] = df['classe_eta'].astype(str)\n",
    "df['genere'] = df['genere'].astype(str)\n",
    "df['group'] = df['classe_eta'] + \"_\" + df['genere']"
   ]
  },
  {
   "cell_type": "code",
   "execution_count": 79,
   "metadata": {},
   "outputs": [
    {
     "name": "stdout",
     "output_type": "stream",
     "text": [
      "      1_1  1_2  2_1  2_2  3_1  3_2  4_1  4_2  5_1  5_2\n",
      "0       0    0    0    0    0    1    0    0    0    0\n",
      "1       0    0    0    0    0    0    0    0    0    1\n",
      "2       0    0    0    0    0    0    1    0    0    0\n",
      "3       0    0    0    0    0    0    0    1    0    0\n",
      "4       0    0    0    0    0    0    0    1    0    0\n",
      "...   ...  ...  ...  ...  ...  ...  ...  ...  ...  ...\n",
      "4271    0    0    0    0    0    0    0    0    1    0\n",
      "4272    0    0    0    0    0    1    0    0    0    0\n",
      "4273    0    1    0    0    0    0    0    0    0    0\n",
      "4274    1    0    0    0    0    0    0    0    0    0\n",
      "4275    0    0    0    0    0    0    1    0    0    0\n",
      "\n",
      "[4276 rows x 10 columns]\n"
     ]
    }
   ],
   "source": [
    "X = pd.get_dummies(df['group'])\n",
    "print(X)"
   ]
  },
  {
   "cell_type": "code",
   "execution_count": 80,
   "metadata": {},
   "outputs": [
    {
     "name": "stdout",
     "output_type": "stream",
     "text": [
      "['1_1', '1_2', '2_1', '2_2', '3_1', '3_2', '4_1', '4_2', '5_1', '5_2']\n"
     ]
    }
   ],
   "source": [
    "calibration_vars = X.columns.tolist()\n",
    "\n",
    "print(calibration_vars)"
   ]
  },
  {
   "cell_type": "code",
   "execution_count": 81,
   "metadata": {},
   "outputs": [
    {
     "name": "stdout",
     "output_type": "stream",
     "text": [
      "[ 90  90 100 130 240 250 325 335 615 545]\n"
     ]
    }
   ],
   "source": [
    "population_totals = {\n",
    "    '1_1': 90,\n",
    "    '1_2': 90,\n",
    "    '2_1': 100,\n",
    "    '2_2': 130,\n",
    "    '3_1': 240,\n",
    "    '3_2': 250,\n",
    "    '4_1': 325,\n",
    "    '4_2': 335,\n",
    "    '5_1': 615,\n",
    "    '5_2': 545\n",
    "}\n",
    "t = np.array([population_totals[var] for var in calibration_vars])\n",
    "print(t)"
   ]
  },
  {
   "cell_type": "code",
   "execution_count": 82,
   "metadata": {},
   "outputs": [],
   "source": [
    "# Logit bounds: 0.01 ≤ g ≤ 4\n",
    "lower = 0.01\n",
    "upper = 4"
   ]
  },
  {
   "cell_type": "code",
   "execution_count": 83,
   "metadata": {},
   "outputs": [
    {
     "name": "stdout",
     "output_type": "stream",
     "text": [
      "var163\n"
     ]
    }
   ],
   "source": [
    "g = cp.Variable(n)\n",
    "print(g)"
   ]
  },
  {
   "cell_type": "code",
   "execution_count": 84,
   "metadata": {},
   "outputs": [
    {
     "name": "stdout",
     "output_type": "stream",
     "text": [
      "[[0 0 0 ... 0 0 0]\n",
      " [0 0 0 ... 0 0 1]\n",
      " [0 0 0 ... 0 0 0]\n",
      " ...\n",
      " [0 1 0 ... 0 0 0]\n",
      " [1 0 0 ... 0 0 0]\n",
      " [0 0 0 ... 0 0 0]]\n"
     ]
    }
   ],
   "source": [
    "A = X.values  # (n x k)\n",
    "print(A)"
   ]
  },
  {
   "cell_type": "code",
   "execution_count": 85,
   "metadata": {},
   "outputs": [
    {
     "name": "stdout",
     "output_type": "stream",
     "text": [
      "[1. 1. 1. ... 1. 1. 1.]\n"
     ]
    }
   ],
   "source": [
    "w = df['design_weight'].values  # (n, )\n",
    "print(w)"
   ]
  },
  {
   "cell_type": "code",
   "execution_count": 86,
   "metadata": {},
   "outputs": [
    {
     "name": "stdout",
     "output_type": "stream",
     "text": [
      "[Inequality(Constant(CONSTANT, NONNEGATIVE, ())), Inequality(Variable((4276,), var163)), Equality(Expression(AFFINE, UNKNOWN, (10,)), Constant(CONSTANT, NONNEGATIVE, (10,)))]\n"
     ]
    }
   ],
   "source": [
    "constraints = [\n",
    "    g >= lower,\n",
    "    g <= upper,\n",
    "    A.T @ cp.multiply(g, w) == t\n",
    "]\n",
    "print(constraints)"
   ]
  },
  {
   "cell_type": "code",
   "execution_count": 87,
   "metadata": {},
   "outputs": [],
   "source": [
    "objective = cp.Minimize(cp.sum(cp.kl_div(g, np.ones(n))))"
   ]
  },
  {
   "cell_type": "code",
   "execution_count": 88,
   "metadata": {},
   "outputs": [
    {
     "name": "stdout",
     "output_type": "stream",
     "text": [
      "===============================================================================\n",
      "                                     CVXPY                                     \n",
      "                                     v1.6.4                                    \n",
      "===============================================================================\n",
      "(CVXPY) Apr 13 07:41:37 PM: Your problem has 4276 variables, 8562 constraints, and 0 parameters.\n",
      "(CVXPY) Apr 13 07:41:37 PM: It is compliant with the following grammars: DCP, DQCP\n",
      "(CVXPY) Apr 13 07:41:37 PM: (If you need to solve this problem multiple times, but with different data, consider using parameters.)\n",
      "(CVXPY) Apr 13 07:41:37 PM: CVXPY will first compile your problem; then, it will invoke a numerical solver to obtain a solution.\n",
      "(CVXPY) Apr 13 07:41:37 PM: Your problem is compiled with the CPP canonicalization backend.\n",
      "-------------------------------------------------------------------------------\n",
      "                                  Compilation                                  \n",
      "-------------------------------------------------------------------------------\n",
      "(CVXPY) Apr 13 07:41:37 PM: Compiling problem (target solver=CLARABEL).\n",
      "(CVXPY) Apr 13 07:41:37 PM: Reduction chain: Dcp2Cone -> CvxAttr2Constr -> ConeMatrixStuffing -> CLARABEL\n",
      "(CVXPY) Apr 13 07:41:37 PM: Applying reduction Dcp2Cone\n",
      "(CVXPY) Apr 13 07:41:37 PM: Applying reduction CvxAttr2Constr\n",
      "(CVXPY) Apr 13 07:41:37 PM: Applying reduction ConeMatrixStuffing\n",
      "(CVXPY) Apr 13 07:41:37 PM: Applying reduction CLARABEL\n",
      "(CVXPY) Apr 13 07:41:37 PM: Finished problem compilation (took 6.283e-02 seconds).\n",
      "-------------------------------------------------------------------------------\n",
      "                                Numerical solver                               \n",
      "-------------------------------------------------------------------------------\n",
      "(CVXPY) Apr 13 07:41:37 PM: Invoking solver CLARABEL  to obtain a solution.\n",
      "-------------------------------------------------------------\n",
      "           Clarabel.rs v0.10.0  -  Clever Acronym                \n",
      "\n",
      "                   (c) Paul Goulart                          \n",
      "                University of Oxford, 2022                   \n",
      "-------------------------------------------------------------\n",
      "\n",
      "problem:\n",
      "  variables     = 8552\n",
      "  constraints   = 21390\n",
      "  nnz(P)        = 0\n",
      "  nnz(A)        = 21380\n",
      "  cones (total) = 4278\n",
      "    :        Zero = 1,  numel = 10\n",
      "    : Nonnegative = 1,  numel = 8552\n",
      "    : Exponential = 4276,  numel = (3,3,3,3,...,3)\n",
      "\n",
      "settings:\n",
      "  linear algebra: direct / qdldl, precision: 64 bit\n",
      "  max iter = 200, time limit = Inf,  max step = 0.990\n",
      "  tol_feas = 1.0e-8, tol_gap_abs = 1.0e-8, tol_gap_rel = 1.0e-8,\n",
      "  static reg : on, ϵ1 = 1.0e-8, ϵ2 = 4.9e-32\n",
      "  dynamic reg: on, ϵ = 1.0e-13, δ = 2.0e-7\n",
      "  iter refine: on, reltol = 1.0e-13, abstol = 1.0e-12,\n",
      "               max iter = 10, stop ratio = 5.0\n",
      "  equilibrate: on, min_scale = 1.0e-4, max_scale = 1.0e4\n",
      "               max iter = 10\n",
      "\n",
      "iter    pcost        dcost       gap       pres      dres      k/t        μ       step      \n",
      "---------------------------------------------------------------------------------------------\n",
      "  0  +0.0000e+00  -2.2445e+04  2.24e+04  1.38e+00  6.92e-01  1.00e+00  1.00e+00   ------   \n",
      "  1  +1.9594e+01  -8.6287e+03  4.41e+02  4.78e-01  2.39e-01  6.95e-01  2.60e-01  7.92e-01  \n",
      "  2  -2.9012e+03  -4.9845e+03  7.18e-01  1.11e-01  7.05e-02  1.50e-01  6.63e-02  7.92e-01  \n",
      "  3  -3.6233e+03  -4.0670e+03  1.22e-01  2.32e-02  1.49e-02  3.16e-02  1.43e-02  7.92e-01  \n",
      "  4  -3.8159e+03  -3.8283e+03  3.25e-03  6.44e-04  4.13e-04  8.44e-04  4.00e-04  9.80e-01  \n",
      "  5  -3.8211e+03  -3.8214e+03  9.00e-05  1.79e-05  1.15e-05  2.28e-05  1.11e-05  9.80e-01  \n",
      "  6  -3.8212e+03  -3.8213e+03  2.50e-06  4.96e-07  3.18e-07  6.19e-07  3.08e-07  9.80e-01  \n",
      "  7  -3.8212e+03  -3.8212e+03  5.35e-07  1.06e-07  6.81e-08  1.32e-07  6.59e-08  7.92e-01  \n",
      "  8  -3.8212e+03  -3.8212e+03  2.81e-07  5.59e-08  3.59e-08  6.76e-08  3.47e-08  7.92e-01  \n",
      "  9  -3.8212e+03  -3.8212e+03  1.11e-07  2.21e-08  1.42e-08  2.67e-08  1.37e-08  6.34e-01  \n",
      " 10  -3.8212e+03  -3.8212e+03  1.11e-07  2.21e-08  1.42e-08  2.67e-08  1.37e-08  0.00e+00  \n",
      " 11  -3.8212e+03  -3.8212e+03  6.85e-08  1.36e-08  8.73e-09  1.68e-08  7.98e-09  5.07e-01  \n",
      " 12  -3.8212e+03  -3.8212e+03  1.69e-08  3.36e-09  2.13e-09  4.18e-09  1.92e-09  7.92e-01  \n",
      " 13  -3.8212e+03  -3.8212e+03  1.54e-08  3.06e-09  1.94e-09  3.79e-09  1.75e-09  2.08e-01  \n",
      " 14  -3.8212e+03  -3.8212e+03  6.42e-09  1.27e-09  8.08e-10  1.51e-09  7.16e-10  9.80e-01  \n",
      "---------------------------------------------------------------------------------------------\n",
      "Terminated with status = Solved\n",
      "solve time = 198.1228ms\n",
      "-------------------------------------------------------------------------------\n",
      "                                    Summary                                    \n",
      "-------------------------------------------------------------------------------\n",
      "(CVXPY) Apr 13 07:41:37 PM: Problem status: optimal\n",
      "(CVXPY) Apr 13 07:41:37 PM: Optimal value: 4.548e+02\n",
      "(CVXPY) Apr 13 07:41:37 PM: Compilation took 6.283e-02 seconds\n",
      "(CVXPY) Apr 13 07:41:37 PM: Solver (including time spent in interface) took 2.139e-01 seconds\n"
     ]
    },
    {
     "data": {
      "text/plain": [
       "454.7520129837677"
      ]
     },
     "execution_count": 88,
     "metadata": {},
     "output_type": "execute_result"
    }
   ],
   "source": [
    "problem = cp.Problem(objective, constraints)\n",
    "problem.solve(verbose=True)"
   ]
  },
  {
   "cell_type": "code",
   "execution_count": 89,
   "metadata": {},
   "outputs": [],
   "source": [
    "df['calibrated_weight'] = g.value * df['design_weight']"
   ]
  },
  {
   "cell_type": "code",
   "execution_count": 90,
   "metadata": {},
   "outputs": [
    {
     "name": "stdout",
     "output_type": "stream",
     "text": [
      "\n",
      "Confronto tra margini campionari e obiettivi:\n",
      "  Group  Target  Original  Calibrated\n",
      "0   1_1      90     228.0   90.000000\n",
      "1   1_2      90     236.0   90.000000\n",
      "2   2_1     100     122.0  100.000000\n",
      "3   2_2     130     122.0  130.000000\n",
      "4   3_1     240     438.0  240.000000\n",
      "5   3_2     250     430.0  250.000000\n",
      "6   4_1     325     632.0  325.000000\n",
      "7   4_2     335     668.0  335.000000\n",
      "8   5_1     615     594.0  614.999999\n",
      "9   5_2     545     806.0  544.999999\n"
     ]
    }
   ],
   "source": [
    "print(\"\\nConfronto tra margini campionari e obiettivi:\")\n",
    "sample_totals = A.T @ w\n",
    "calibrated_totals = A.T @ df['calibrated_weight'].values\n",
    "results = pd.DataFrame({\n",
    "    'Group': calibration_vars,\n",
    "    'Target': t,\n",
    "    'Original': sample_totals,\n",
    "    'Calibrated': calibrated_totals\n",
    "})\n",
    "print(results)\n"
   ]
  },
  {
   "cell_type": "code",
   "execution_count": 91,
   "metadata": {},
   "outputs": [
    {
     "data": {
      "text/plain": [
       "<bound method NDFrame.head of               id classe_eta genere  design_weight group  calibrated_weight\n",
       "0     1571500001          3      2            1.0   3_2           0.581395\n",
       "1     1571500002          5      2            1.0   5_2           0.676179\n",
       "2     1571560001          4      1            1.0   4_1           0.514241\n",
       "3     1571560002          4      2            1.0   4_2           0.501497\n",
       "4     1571680001          4      2            1.0   4_2           0.501497\n",
       "...          ...        ...    ...            ...   ...                ...\n",
       "4271  2425930002          5      1            1.0   5_1           1.035354\n",
       "4272  2425960001          3      2            1.0   3_2           0.581395\n",
       "4273  2425960002          1      2            1.0   1_2           0.381356\n",
       "4274  2425960003          1      1            1.0   1_1           0.394741\n",
       "4275  2425960004          4      1            1.0   4_1           0.514241\n",
       "\n",
       "[4276 rows x 6 columns]>"
      ]
     },
     "execution_count": 91,
     "metadata": {},
     "output_type": "execute_result"
    }
   ],
   "source": [
    "df.head"
   ]
  }
 ],
 "metadata": {
  "kernelspec": {
   "display_name": "Python 3",
   "language": "python",
   "name": "python3"
  },
  "language_info": {
   "codemirror_mode": {
    "name": "ipython",
    "version": 3
   },
   "file_extension": ".py",
   "mimetype": "text/x-python",
   "name": "python",
   "nbconvert_exporter": "python",
   "pygments_lexer": "ipython3",
   "version": "3.11.2"
  }
 },
 "nbformat": 4,
 "nbformat_minor": 2
}
