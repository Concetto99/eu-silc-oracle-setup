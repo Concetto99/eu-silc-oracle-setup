{
 "cells": [
  {
   "cell_type": "markdown",
   "metadata": {},
   "source": [
    "# PARSING PDF FILE TO EXTRACT INFORMATION ABOUT VARIABLES AND INSERT INTO METADATA TABLE"
   ]
  },
  {
   "cell_type": "code",
   "execution_count": 82,
   "metadata": {},
   "outputs": [],
   "source": [
    "import pandas as pd"
   ]
  },
  {
   "cell_type": "code",
   "execution_count": 83,
   "metadata": {},
   "outputs": [],
   "source": [
    "import os"
   ]
  },
  {
   "cell_type": "code",
   "execution_count": 84,
   "metadata": {},
   "outputs": [],
   "source": [
    "import openpyxl"
   ]
  },
  {
   "cell_type": "code",
   "execution_count": 85,
   "metadata": {},
   "outputs": [],
   "source": [
    "import numpy as np\n",
    "import cvxpy as cp"
   ]
  },
  {
   "cell_type": "code",
   "execution_count": 86,
   "metadata": {},
   "outputs": [],
   "source": [
    "file_path = \"../../GIT/demo-Turin-EuSilc/02_DataSet/\" # Set the directory of the EU-SULC files"
   ]
  },
  {
   "cell_type": "code",
   "execution_count": 87,
   "metadata": {},
   "outputs": [],
   "source": [
    "df = pd.read_excel(os.path.join(file_path,\"Calibration_variables.xlsx\"))"
   ]
  },
  {
   "cell_type": "code",
   "execution_count": 88,
   "metadata": {},
   "outputs": [
    {
     "data": {
      "text/plain": [
       "<bound method NDFrame.head of               id  classe_eta  genere\n",
       "0     1571500001           3       2\n",
       "1     1571500002           5       2\n",
       "2     1571560001           4       1\n",
       "3     1571560002           4       2\n",
       "4     1571680001           4       2\n",
       "...          ...         ...     ...\n",
       "4271  2425930002           5       1\n",
       "4272  2425960001           3       2\n",
       "4273  2425960002           1       2\n",
       "4274  2425960003           1       1\n",
       "4275  2425960004           4       1\n",
       "\n",
       "[4276 rows x 3 columns]>"
      ]
     },
     "execution_count": 88,
     "metadata": {},
     "output_type": "execute_result"
    }
   ],
   "source": [
    "df.head"
   ]
  },
  {
   "cell_type": "code",
   "execution_count": 145,
   "metadata": {},
   "outputs": [
    {
     "name": "stdout",
     "output_type": "stream",
     "text": [
      "4276\n"
     ]
    }
   ],
   "source": [
    "np.random.seed(42)\n",
    "n = len(df)\n",
    "print(n)"
   ]
  },
  {
   "cell_type": "code",
   "execution_count": 90,
   "metadata": {},
   "outputs": [],
   "source": [
    "df['design_weight'] = 1.0"
   ]
  },
  {
   "cell_type": "code",
   "execution_count": 91,
   "metadata": {},
   "outputs": [],
   "source": [
    "df['classe_eta'] = df['classe_eta'].astype(str)\n",
    "df['genere'] = df['genere'].astype(str)\n",
    "df['group'] = df['classe_eta'] + \"_\" + df['genere']"
   ]
  },
  {
   "cell_type": "code",
   "execution_count": 92,
   "metadata": {},
   "outputs": [
    {
     "name": "stdout",
     "output_type": "stream",
     "text": [
      "      1_1  1_2  2_1  2_2  3_1  3_2  4_1  4_2  5_1  5_2\n",
      "0       0    0    0    0    0    1    0    0    0    0\n",
      "1       0    0    0    0    0    0    0    0    0    1\n",
      "2       0    0    0    0    0    0    1    0    0    0\n",
      "3       0    0    0    0    0    0    0    1    0    0\n",
      "4       0    0    0    0    0    0    0    1    0    0\n",
      "...   ...  ...  ...  ...  ...  ...  ...  ...  ...  ...\n",
      "4271    0    0    0    0    0    0    0    0    1    0\n",
      "4272    0    0    0    0    0    1    0    0    0    0\n",
      "4273    0    1    0    0    0    0    0    0    0    0\n",
      "4274    1    0    0    0    0    0    0    0    0    0\n",
      "4275    0    0    0    0    0    0    1    0    0    0\n",
      "\n",
      "[4276 rows x 10 columns]\n"
     ]
    }
   ],
   "source": [
    "X = pd.get_dummies(df['group'])\n",
    "print(X)"
   ]
  },
  {
   "cell_type": "code",
   "execution_count": 93,
   "metadata": {},
   "outputs": [],
   "source": [
    "calibration_vars = X.columns.tolist()"
   ]
  },
  {
   "cell_type": "code",
   "execution_count": 223,
   "metadata": {},
   "outputs": [
    {
     "name": "stdout",
     "output_type": "stream",
     "text": [
      "[120 110 100 130 140 150 125 135 115 145]\n"
     ]
    }
   ],
   "source": [
    "population_totals = {\n",
    "    '1_1': 120,\n",
    "    '1_2': 110,\n",
    "    '2_1': 100,\n",
    "    '2_2': 130,\n",
    "    '3_1': 140,\n",
    "    '3_2': 150,\n",
    "    '4_1': 125,\n",
    "    '4_2': 135,\n",
    "    '5_1': 115,\n",
    "    '5_2': 145\n",
    "}\n",
    "t = np.array([population_totals[var] for var in calibration_vars])\n",
    "print(t)"
   ]
  },
  {
   "cell_type": "code",
   "execution_count": 224,
   "metadata": {},
   "outputs": [],
   "source": [
    "# Logit bounds: 0.01 ≤ g ≤ 4\n",
    "lower = 0.01\n",
    "upper = 4"
   ]
  },
  {
   "cell_type": "code",
   "execution_count": 225,
   "metadata": {},
   "outputs": [
    {
     "name": "stdout",
     "output_type": "stream",
     "text": [
      "var505\n"
     ]
    }
   ],
   "source": [
    "g = cp.Variable(n)\n",
    "print(g)"
   ]
  },
  {
   "cell_type": "code",
   "execution_count": 226,
   "metadata": {},
   "outputs": [
    {
     "name": "stdout",
     "output_type": "stream",
     "text": [
      "[[0 0 0 ... 0 0 0]\n",
      " [0 0 0 ... 0 0 1]\n",
      " [0 0 0 ... 0 0 0]\n",
      " ...\n",
      " [0 1 0 ... 0 0 0]\n",
      " [1 0 0 ... 0 0 0]\n",
      " [0 0 0 ... 0 0 0]]\n"
     ]
    }
   ],
   "source": [
    "A = X.values  # (n x k)\n",
    "print(A)"
   ]
  },
  {
   "cell_type": "code",
   "execution_count": 227,
   "metadata": {},
   "outputs": [
    {
     "name": "stdout",
     "output_type": "stream",
     "text": [
      "[1. 1. 1. ... 1. 1. 1.]\n"
     ]
    }
   ],
   "source": [
    "w = df['design_weight'].values  # (n, )\n",
    "print(w)"
   ]
  },
  {
   "cell_type": "code",
   "execution_count": 228,
   "metadata": {},
   "outputs": [
    {
     "name": "stdout",
     "output_type": "stream",
     "text": [
      "[Inequality(Constant(CONSTANT, NONNEGATIVE, ())), Inequality(Variable((4276,), var505)), Equality(Expression(AFFINE, UNKNOWN, (10,)), Constant(CONSTANT, NONNEGATIVE, (10,)))]\n"
     ]
    }
   ],
   "source": [
    "constraints = [\n",
    "    g >= lower,\n",
    "    g <= upper,\n",
    "    A.T @ cp.multiply(g, w) == t\n",
    "]\n",
    "print(constraints)"
   ]
  },
  {
   "cell_type": "code",
   "execution_count": 236,
   "metadata": {},
   "outputs": [],
   "source": [
    "objective = cp.Minimize(cp.sum(cp.kl_div(g, np.ones(n))))"
   ]
  },
  {
   "cell_type": "code",
   "execution_count": 235,
   "metadata": {},
   "outputs": [
    {
     "name": "stdout",
     "output_type": "stream",
     "text": [
      "===============================================================================\n",
      "                                     CVXPY                                     \n",
      "                                     v1.6.4                                    \n",
      "===============================================================================\n",
      "(CVXPY) Apr 12 07:57:22 PM: Your problem has 4276 variables, 8562 constraints, and 0 parameters.\n",
      "(CVXPY) Apr 12 07:57:22 PM: It is compliant with the following grammars: DCP, DQCP\n",
      "(CVXPY) Apr 12 07:57:22 PM: (If you need to solve this problem multiple times, but with different data, consider using parameters.)\n",
      "(CVXPY) Apr 12 07:57:22 PM: CVXPY will first compile your problem; then, it will invoke a numerical solver to obtain a solution.\n",
      "(CVXPY) Apr 12 07:57:22 PM: Your problem is compiled with the CPP canonicalization backend.\n",
      "-------------------------------------------------------------------------------\n",
      "                                  Compilation                                  \n",
      "-------------------------------------------------------------------------------\n",
      "(CVXPY) Apr 12 07:57:22 PM: Compiling problem (target solver=CLARABEL).\n",
      "(CVXPY) Apr 12 07:57:22 PM: Reduction chain: Dcp2Cone -> CvxAttr2Constr -> ConeMatrixStuffing -> CLARABEL\n",
      "(CVXPY) Apr 12 07:57:22 PM: Applying reduction Dcp2Cone\n",
      "(CVXPY) Apr 12 07:57:22 PM: Applying reduction CvxAttr2Constr\n",
      "(CVXPY) Apr 12 07:57:22 PM: Applying reduction ConeMatrixStuffing\n",
      "(CVXPY) Apr 12 07:57:22 PM: Applying reduction CLARABEL\n",
      "(CVXPY) Apr 12 07:57:22 PM: Finished problem compilation (took 2.897e-02 seconds).\n",
      "-------------------------------------------------------------------------------\n",
      "                                Numerical solver                               \n",
      "-------------------------------------------------------------------------------\n",
      "(CVXPY) Apr 12 07:57:22 PM: Invoking solver CLARABEL  to obtain a solution.\n",
      "-------------------------------------------------------------\n",
      "           Clarabel.rs v0.10.0  -  Clever Acronym                \n",
      "\n",
      "                   (c) Paul Goulart                          \n",
      "                University of Oxford, 2022                   \n",
      "-------------------------------------------------------------\n",
      "\n",
      "problem:\n",
      "  variables     = 8552\n",
      "  constraints   = 21390\n",
      "  nnz(P)        = 0\n",
      "  nnz(A)        = 21380\n",
      "  cones (total) = 4278\n",
      "    :        Zero = 1,  numel = 10\n",
      "    : Nonnegative = 1,  numel = 8552\n",
      "    : Exponential = 4276,  numel = (3,3,3,3,...,3)\n",
      "\n",
      "settings:\n",
      "  linear algebra: direct / qdldl, precision: 64 bit\n",
      "  max iter = 200, time limit = Inf,  max step = 0.990\n",
      "  tol_feas = 1.0e-8, tol_gap_abs = 1.0e-8, tol_gap_rel = 1.0e-8,\n",
      "  static reg : on, ϵ1 = 1.0e-8, ϵ2 = 4.9e-32\n",
      "  dynamic reg: on, ϵ = 1.0e-13, δ = 2.0e-7\n",
      "  iter refine: on, reltol = 1.0e-13, abstol = 1.0e-12,\n",
      "               max iter = 10, stop ratio = 5.0\n",
      "  equilibrate: on, min_scale = 1.0e-4, max_scale = 1.0e4\n",
      "               max iter = 10\n",
      "\n",
      "iter    pcost        dcost       gap       pres      dres      k/t        μ       step      \n",
      "---------------------------------------------------------------------------------------------\n",
      "  0  +0.0000e+00  -2.2445e+04  2.24e+04  1.56e+00  6.92e-01  1.00e+00  1.00e+00   ------   \n",
      "  1  +1.0269e+03  -8.2192e+03  9.00e+00  5.01e-01  2.27e-01  8.32e-01  2.55e-01  7.77e-01  \n",
      "  2  -1.8067e+03  -3.9959e+03  1.21e+00  1.09e-01  8.89e-02  1.62e-01  6.92e-02  7.92e-01  \n",
      "  3  -2.4531e+03  -2.9115e+03  1.87e-01  2.19e-02  1.91e-02  3.28e-02  1.51e-02  7.92e-01  \n",
      "  4  -2.6131e+03  -2.6262e+03  5.01e-03  6.18e-04  5.36e-04  8.92e-04  4.35e-04  9.80e-01  \n",
      "  5  -2.6162e+03  -2.6165e+03  1.39e-04  1.71e-05  1.48e-05  2.40e-05  1.21e-05  9.80e-01  \n",
      "  6  -2.6163e+03  -2.6163e+03  3.85e-06  4.76e-07  4.11e-07  6.49e-07  3.35e-07  9.80e-01  \n",
      "  7  -2.6163e+03  -2.6163e+03  1.07e-07  1.32e-08  1.14e-08  1.76e-08  9.29e-09  9.80e-01  \n",
      "  8  -2.6163e+03  -2.6163e+03  2.29e-08  2.83e-09  2.44e-09  3.78e-09  1.99e-09  7.92e-01  \n",
      "  9  -2.6163e+03  -2.6163e+03  1.65e-08  2.04e-09  1.76e-09  2.62e-09  1.44e-09  7.92e-01  \n",
      " 10  -2.6163e+03  -2.6163e+03  1.25e-08  1.55e-09  1.34e-09  1.98e-09  1.09e-09  4.06e-01  \n",
      " 11  -2.6163e+03  -2.6163e+03  6.91e-09  8.54e-10  7.37e-10  1.09e-09  6.01e-10  5.07e-01  \n",
      "---------------------------------------------------------------------------------------------\n",
      "Terminated with status = Solved\n",
      "solve time = 96.038ms\n",
      "-------------------------------------------------------------------------------\n",
      "                                    Summary                                    \n",
      "-------------------------------------------------------------------------------\n",
      "(CVXPY) Apr 12 07:57:22 PM: Problem status: optimal\n",
      "(CVXPY) Apr 12 07:57:22 PM: Optimal value: 1.660e+03\n",
      "(CVXPY) Apr 12 07:57:22 PM: Compilation took 2.897e-02 seconds\n",
      "(CVXPY) Apr 12 07:57:22 PM: Solver (including time spent in interface) took 1.077e-01 seconds\n"
     ]
    },
    {
     "data": {
      "text/plain": [
       "1659.7388954082844"
      ]
     },
     "execution_count": 235,
     "metadata": {},
     "output_type": "execute_result"
    }
   ],
   "source": [
    "problem = cp.Problem(objective, constraints)\n",
    "problem.solve(verbose=True)"
   ]
  },
  {
   "cell_type": "code",
   "execution_count": 234,
   "metadata": {},
   "outputs": [],
   "source": [
    "df['calibrated_weight'] = g.value * df['design_weight']"
   ]
  },
  {
   "cell_type": "code",
   "execution_count": 233,
   "metadata": {},
   "outputs": [
    {
     "name": "stdout",
     "output_type": "stream",
     "text": [
      "\n",
      "Confronto tra margini campionari e obiettivi:\n",
      "  Group  Target  Original  Calibrated\n",
      "0   1_1     120     228.0       120.0\n",
      "1   1_2     110     236.0       110.0\n",
      "2   2_1     100     122.0       100.0\n",
      "3   2_2     130     122.0       130.0\n",
      "4   3_1     140     438.0       140.0\n",
      "5   3_2     150     430.0       150.0\n",
      "6   4_1     125     632.0       125.0\n",
      "7   4_2     135     668.0       135.0\n",
      "8   5_1     115     594.0       115.0\n",
      "9   5_2     145     806.0       145.0\n"
     ]
    }
   ],
   "source": [
    "print(\"\\nConfronto tra margini campionari e obiettivi:\")\n",
    "sample_totals = A.T @ w\n",
    "calibrated_totals = A.T @ df['calibrated_weight'].values\n",
    "results = pd.DataFrame({\n",
    "    'Group': calibration_vars,\n",
    "    'Target': t,\n",
    "    'Original': sample_totals,\n",
    "    'Calibrated': calibrated_totals\n",
    "})\n",
    "print(results)\n"
   ]
  }
 ],
 "metadata": {
  "kernelspec": {
   "display_name": "Python 3",
   "language": "python",
   "name": "python3"
  },
  "language_info": {
   "codemirror_mode": {
    "name": "ipython",
    "version": 3
   },
   "file_extension": ".py",
   "mimetype": "text/x-python",
   "name": "python",
   "nbconvert_exporter": "python",
   "pygments_lexer": "ipython3",
   "version": "3.11.2"
  }
 },
 "nbformat": 4,
 "nbformat_minor": 2
}
