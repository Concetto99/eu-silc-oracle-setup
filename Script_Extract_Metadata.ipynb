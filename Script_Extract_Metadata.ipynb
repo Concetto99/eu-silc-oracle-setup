{
 "cells": [
  {
   "cell_type": "markdown",
   "metadata": {},
   "source": [
    "# PARSING PDF FILE TO EXTRACT INFORMATION ABOUT VARIABLES AND INSERT INTO METADATA TABLE"
   ]
  },
  {
   "cell_type": "code",
   "execution_count": 58,
   "metadata": {},
   "outputs": [],
   "source": [
    "import pandas as pd"
   ]
  },
  {
   "cell_type": "code",
   "execution_count": 59,
   "metadata": {},
   "outputs": [],
   "source": [
    "import os"
   ]
  },
  {
   "cell_type": "code",
   "execution_count": 60,
   "metadata": {},
   "outputs": [],
   "source": [
    "import re"
   ]
  },
  {
   "cell_type": "code",
   "execution_count": 61,
   "metadata": {},
   "outputs": [],
   "source": [
    "# pip install pdfminer.six\n",
    "from pdfminer.high_level import extract_text"
   ]
  },
  {
   "cell_type": "code",
   "execution_count": 62,
   "metadata": {},
   "outputs": [],
   "source": [
    "file_path = \"../../GIT/demo-Turin-EuSilc/02_DataSet/\" # Set the directory of the EU-SULC files\n",
    "SQL_path = \"./SQL_Folder/\""
   ]
  },
  {
   "cell_type": "code",
   "execution_count": 63,
   "metadata": {},
   "outputs": [],
   "source": [
    "UDB_cIT23D = pd.read_csv(os.path.join(file_path,\"UDB_cIT23D.csv\"), sep= \",\")\n",
    "UDB_cIT23H = pd.read_csv(os.path.join(file_path,\"UDB_cIT23H.csv\"), sep= \",\")\n",
    "UDB_cIT23P = pd.read_csv(os.path.join(file_path,\"UDB_cIT23P.csv\"), sep= \",\")\n",
    "UDB_cIT23R = pd.read_csv(os.path.join(file_path,\"UDB_cIT23R.csv\"), sep= \",\")"
   ]
  },
  {
   "cell_type": "code",
   "execution_count": 64,
   "metadata": {},
   "outputs": [
    {
     "data": {
      "text/plain": [
       "Index(['DB010', 'DB020', 'DB030', 'DB040', 'DB040_F', 'DB050', 'DB050_F',\n",
       "       'DB060', 'DB060_F', 'DB062', 'DB062_F', 'DB070', 'DB070_F', 'DB075',\n",
       "       'DB075_F', 'DB090', 'DB090_F', 'DB100', 'DB100_F', 'DB076', 'DB076_F'],\n",
       "      dtype='object')"
      ]
     },
     "execution_count": 64,
     "metadata": {},
     "output_type": "execute_result"
    }
   ],
   "source": [
    "UDB_cIT23D.columns\n",
    "    # UDB_cIT23H.columns\n",
    "    # UDB_cIT23P.columns\n",
    "    # UDB_cIT23R.columns"
   ]
  },
  {
   "cell_type": "code",
   "execution_count": 65,
   "metadata": {},
   "outputs": [],
   "source": [
    "text = extract_text(\"Methodological_guidelines_2023.pdf\")"
   ]
  },
  {
   "cell_type": "code",
   "execution_count": null,
   "metadata": {},
   "outputs": [
    {
     "name": "stdout",
     "output_type": "stream",
     "text": [
      "Values Format:\n",
      "3900\n",
      "\n",
      "Flags:\n",
      "82\n",
      "\n"
     ]
    }
   ],
   "source": [
    "datasets = (UDB_cIT23D, UDB_cIT23H, UDB_cIT23P, UDB_cIT23R)\n",
    "datasets_str = (\"UDB_cIT23D\", \"UDB_cIT23H\", \"UDB_cIT23P\", \"UDB_cIT23R\")\n",
    "db_user = \"C##EUSILC_SVIL\" # Set with your user\n",
    "\n",
    "output_file = os.path.join(SQL_path, \"02_Insert_TD_UDB_cIT23_METADATA.sql\")\n",
    "\n",
    "def clean_text(text, max_length=3900):\n",
    "    text = text.replace(\"'\", \" \")  # substitute , with \" \"\n",
    "    text = text.replace(\",\", \" \")  # substitute , with \" \"\n",
    "    text = text.replace(\"\\n\", \" \")  # substitute /n with \" \"\n",
    "    text = re.sub(r\"\\s+\", \" \", text)  # reduces more spaces in only one\n",
    "    return text.strip()[:max_length]  # remove initial and final spaces\n",
    "\n",
    "\n",
    "for d in range(0,len(datasets)):\n",
    "\n",
    "    column_vectors = datasets[d].columns\n",
    "\n",
    "    with open(output_file, \"a\", encoding=\"utf-8\") as file:\n",
    "        file.write(f\"\\n--------------------------------------------------------------------\\n\")\n",
    "        file.write(f\"----------------------------- {datasets_str[d]} ---------------------------\\n\")\n",
    "        file.write(f\"--------------------------------------------------------------------\\n\\n\")\n",
    "\n",
    "\n",
    "\n",
    "    for i in range(0,len(column_vectors)):\n",
    "\n",
    "        str1 = f\"{column_vectors[i]}:\"\n",
    "        str2 = \"Topic and detailed topic\"\n",
    "        str3 = \"VALUES AND FORMAT\"\n",
    "        str4 = \"FLAGS\"\n",
    "        str5 = \"DESCRIPTION\"\n",
    "\n",
    "        # Regex to catch the 3 sections with limited characters between each string\n",
    "        pattern = (\n",
    "            rf\"{re.escape(str1)}(.{{0,200}}?){re.escape(str2)}\"  # des_variable\n",
    "            rf\".{{0,4000}}?\"  \n",
    "            rf\"{re.escape(str3)}(.{{0,10000}}?){re.escape(str4)}\"  # values_format\n",
    "            rf\".{{0,10000}}?\"\n",
    "            rf\"{re.escape(str4)}(.{{0,10000}}?){re.escape(str5)}\"  # flags\n",
    "        )\n",
    "\n",
    "        # find match in text\n",
    "        match = re.search(pattern, text, re.DOTALL)\n",
    "\n",
    "        # verify if the pattern is found\n",
    "        if match:\n",
    "            des_variable = clean_text(match.group(1))\n",
    "            values_format = clean_text(match.group(2))\n",
    "            flags = clean_text(match.group(3))\n",
    "\n",
    "\n",
    "            with open(output_file, \"a\", encoding=\"utf-8\") as file:\n",
    "                file.write(f\"INSERT INTO {db_user}.TD_UDB_cIT23_METADATA (COLUMN_NAME, COLUMN_DESCRIPTION, VALUES_AND_FORMAT, FLAGS)\\nVALUES ('{column_vectors[i]}', '{des_variable}', '{values_format}', '{flags}');\\n\")\n",
    "\n",
    "            if len(des_variable) > 128:\n",
    "                print(f\"Name Variable:\\n{len(des_variable)} {column_vectors[i]}\\n\")\n",
    "\n",
    "            if len(values_format) > 3000 | len(flags) > 3000:\n",
    "                print(f\"Values Format:\\n{len(values_format)}\\n\")\n",
    "                print(f\"Flags:\\n{len(flags)}\\n\")\n",
    "        else:\n",
    "            with open(output_file, \"a\", encoding=\"utf-8\") as file:\n",
    "                file.write(f\"INSERT INTO {db_user}.TD_UDB_cIT23_METADATA (COLUMN_NAME, COLUMN_DESCRIPTION, VALUES_AND_FORMAT, FLAGS)\\nVALUES ('{column_vectors[i]}', NULL, NULL, NULL);\\n\")\n"
   ]
  }
 ],
 "metadata": {
  "kernelspec": {
   "display_name": "Python 3",
   "language": "python",
   "name": "python3"
  },
  "language_info": {
   "codemirror_mode": {
    "name": "ipython",
    "version": 3
   },
   "file_extension": ".py",
   "mimetype": "text/x-python",
   "name": "python",
   "nbconvert_exporter": "python",
   "pygments_lexer": "ipython3",
   "version": "3.11.2"
  }
 },
 "nbformat": 4,
 "nbformat_minor": 2
}
